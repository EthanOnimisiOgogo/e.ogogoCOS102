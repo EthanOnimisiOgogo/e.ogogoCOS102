{
 "cells": [
  {
   "cell_type": "code",
   "execution_count": 11,
   "id": "604e8eea-94f0-464a-8e57-9f598914be0e",
   "metadata": {},
   "outputs": [
    {
     "name": "stdout",
     "output_type": "stream",
     "text": [
      "Your state of origin is : Tamale\n",
      "The first character is: T\n",
      "The characters starting from 3rd to 5th are : mal\n",
      "The characters starting from 3rd character is: male\n",
      "State of origin two times TamaleTamale\n"
     ]
    }
   ],
   "source": [
    "str = input(\"Enter your state of origin:\")\n",
    "\n",
    "print (\"Your state of origin is :\", str)\n",
    "print ( \"The first character is:\" ,str[0])\n",
    "print (\"The characters starting from 3rd to 5th are :\", str[2:5])\n",
    "print (\"The characters starting from 3rd character is:\", str[2:])\n",
    "print (\"State of origin two times\", str*2)\n",
    "\n"
   ]
  },
  {
   "cell_type": "code",
   "execution_count": 12,
   "id": "9aca26f1-034a-48b2-994d-e2722057a735",
   "metadata": {},
   "outputs": [
    {
     "name": "stdout",
     "output_type": "stream",
     "text": [
      "The energy equivalent to45.0kg  of mass is 4.044398304315679e+18 joules.\n"
     ]
    }
   ],
   "source": [
    "m = float(input(\"Enter mass in kilogtrams:\"))\n",
    "c= 299792458\n",
    "energy = m * c ** 2\n",
    "print (f\"The energy equivalent to{m}kg  of mass is {energy} joules.\")"
   ]
  },
  {
   "cell_type": "code",
   "execution_count": 14,
   "id": "e5abd892-99a3-48d4-8f24-e2a4d3de25ca",
   "metadata": {},
   "outputs": [
    {
     "name": "stdout",
     "output_type": "stream",
     "text": [
      "['Anaconda', 786, 2.23, 'Jupyter', 70.2]\n",
      "Anaconda\n",
      "[786, 2.23]\n",
      "[2.23, 'Jupyter', 70.2]\n",
      "[321, 'Python', 321, 'Python']\n",
      "['Anaconda', 786, 2.23, 'Jupyter', 70.2, 321, 'Python']\n"
     ]
    }
   ],
   "source": [
    "list = [ 'Anaconda', 786 , 2.23, 'Jupyter', 70.2 ]\n",
    "shortlist = [321, 'Python']\n",
    "\n",
    "print(list)     \n",
    "print(list[0])\n",
    "print(list[1:3])\n",
    "print(list[2:])\n",
    "print(shortlist * 2)\n",
    "print(list + shortlist)\n"
   ]
  },
  {
   "cell_type": "code",
   "execution_count": 15,
   "id": "c13d7c57",
   "metadata": {},
   "outputs": [
    {
     "name": "stdout",
     "output_type": "stream",
     "text": [
      "('Ekiti', 750, 'Oshogbo', 250, 'Akure', 500)\n",
      "500\n",
      "('Oshogbo', 250)\n",
      "(250, 'Akure', 500)\n",
      "('Abeokuta', 300, 'Ogbomoso', 'Abeokuta', 300, 'Ogbomoso', 'Abeokuta', 300, 'Ogbomoso')\n",
      "('Ekiti', 750, 'Oshogbo', 250, 'Akure', 500, 'Abeokuta', 300, 'Ogbomoso')\n"
     ]
    }
   ],
   "source": [
    "tuple = (\"Ekiti\", 750, \"Oshogbo\", 250, \"Akure\", 500)\n",
    "s_tuple = (\"Abeokuta\", 300, \"Ogbomoso\")\n",
    "\n",
    "print(tuple)\n",
    "\n",
    "print(tuple[-1])\n",
    "\n",
    "print(tuple[2:4])\n",
    "\n",
    "print(tuple[3:])\n",
    "\n",
    "print(s_tuple * 3)\n",
    "\n",
    "print(tuple + s_tuple)\n"
   ]
  },
  {
   "cell_type": "code",
   "execution_count": null,
   "id": "46696553",
   "metadata": {},
   "outputs": [],
   "source": [
    "# Returns false as game_1 is not equal to game_2\n",
    "game_1 = 2\n",
    "game_2 = 4\n",
    "print(bool(game_1 == game_2))\n",
    "# Or\n",
    "print(game_1 == game_2)\n",
    "\n",
    "# Returns False as val is None\n",
    "val = None\n",
    "print(bool(val))\n",
    "\n",
    "# Returns false as num is an empty sequence\n",
    "num = ()\n",
    "print(bool(num))\n",
    "\n",
    "# Returns true as age is boolean\n",
    "age = True\n",
    "print(bool(age))"
   ]
  },
  {
   "cell_type": "code",
   "execution_count": null,
   "id": "ed34ff53",
   "metadata": {},
   "outputs": [],
   "source": [
    "# Convert to int\n",
    "grade = int(70)    # grade will be 70\n",
    "gpa = int(4.9)     # gpa will be 4\n",
    "cgpa = int(\"4\")    # cgpa will be 4\n",
    "\n",
    "print(f\"Grade = {grade}\")\n",
    "print(f\"GPA = {gpa}\")\n",
    "print(f\"CGPA = {cgpa}\")"
   ]
  },
  {
   "cell_type": "code",
   "execution_count": 18,
   "id": "f2b31d61",
   "metadata": {},
   "outputs": [
    {
     "ename": "ModuleNotFoundError",
     "evalue": "No module named 'sympy'",
     "output_type": "error",
     "traceback": [
      "\u001b[31m---------------------------------------------------------------------------\u001b[39m",
      "\u001b[31mModuleNotFoundError\u001b[39m                       Traceback (most recent call last)",
      "\u001b[36mCell\u001b[39m\u001b[36m \u001b[39m\u001b[32mIn[18]\u001b[39m\u001b[32m, line 1\u001b[39m\n\u001b[32m----> \u001b[39m\u001b[32m1\u001b[39m \u001b[38;5;28;01mimport\u001b[39;00m\u001b[38;5;250m \u001b[39m\u001b[34;01msympy\u001b[39;00m\u001b[38;5;250m \u001b[39m\u001b[38;5;28;01mas\u001b[39;00m\u001b[38;5;250m \u001b[39m\u001b[34;01msp\u001b[39;00m\n\u001b[32m      3\u001b[39m \u001b[38;5;28;01mdef\u001b[39;00m\u001b[38;5;250m \u001b[39m\u001b[34msolve_quadratic\u001b[39m():\n\u001b[32m      4\u001b[39m     \u001b[38;5;28mprint\u001b[39m(\u001b[33m\"\u001b[39m\u001b[33mSolving Quadratic Equation: Ax^2 + Bx + C = 0\u001b[39m\u001b[33m\"\u001b[39m)\n",
      "\u001b[31mModuleNotFoundError\u001b[39m: No module named 'sympy'"
     ]
    }
   ],
   "source": [
    "import sympy as sp\n",
    "\n",
    "def solve_quadratic():\n",
    "    print(\"Solving Quadratic Equation: Ax^2 + Bx + C = 0\")\n",
    "    A = float(input(\"Enter coefficient A: \"))\n",
    "    B = float(input(\"Enter coefficient B: \"))\n",
    "    C = float(input(\"Enter coefficient C: \"))\n",
    "    x = sp.symbols('x')\n",
    "    solutions = sp.solve(A*x**2 + B*x + C, x)\n",
    "    print(\"Roots:\", solutions)\n",
    "\n",
    "def solve_cubic():\n",
    "    print(\"Solving Cubic Equation: Ax^3 + Bx^2 + Cx + D = 0\")\n",
    "    A = float(input(\"Enter coefficient A: \"))\n",
    "    B = float(input(\"Enter coefficient B: \"))\n",
    "    C = float(input(\"Enter coefficient C: \"))\n",
    "    D = float(input(\"Enter coefficient D: \"))\n",
    "    x = sp.symbols('x')\n",
    "    solutions = sp.solve(A*x**3 + B*x**2 + C*x + D, x)\n",
    "    print(\"Roots:\", solutions)\n",
    "\n",
    "def solve_quartic():\n",
    "    print(\"Solving Quartic Equation: Ax^4 + Bx^3 + Cx^2 + Dx + E = 0\")\n",
    "    A = float(input(\"Enter coefficient A: \"))\n",
    "    B = float(input(\"Enter coefficient B: \"))\n",
    "    C = float(input(\"Enter coefficient C: \"))\n",
    "    D = float(input(\"Enter coefficient D: \"))\n",
    "    E = float(input(\"Enter coefficient E: \"))\n",
    "    x = sp.symbols('x')\n",
    "    solutions = sp.solve(A*x**4 + B*x**3 + C*x**2 + D*x + E, x)\n",
    "    print(\"Roots:\", solutions)\n",
    "\n",
    "def main():\n",
    "    while True:\n",
    "        print(\"\\nChoose the type of equation to solve:\")\n",
    "        print(\"1. Quadratic Equation\")\n",
    "        print(\"2. Cubic Equation\")\n",
    "        print(\"3. Quartic Equation\")\n",
    "        print(\"4. Exit\")\n",
    "        \n",
    "        choice = input(\"Enter your choice (1-4): \")\n",
    "        \n",
    "        if choice == '1':\n",
    "            solve_quadratic()\n",
    "        elif choice == '2':\n",
    "            solve_cubic()\n",
    "        elif choice == '3':\n",
    "            solve_quartic()\n",
    "        elif choice == '4':\n",
    "            print(\"Exiting program.\")\n",
    "            break\n",
    "        else:\n",
    "            print(\"Invalid choice! Please enter a number between 1 and 4.\")\n",
    "\n",
    "if __name__ == \"__main__\":\n",
    "    main()\n"
   ]
  }
 ],
 "metadata": {
  "kernelspec": {
   "display_name": "Python 3 (ipykernel)",
   "language": "python",
   "name": "python3"
  },
  "language_info": {
   "codemirror_mode": {
    "name": "ipython",
    "version": 3
   },
   "file_extension": ".py",
   "mimetype": "text/x-python",
   "name": "python",
   "nbconvert_exporter": "python",
   "pygments_lexer": "ipython3",
   "version": "3.13.2"
  }
 },
 "nbformat": 4,
 "nbformat_minor": 5
}
