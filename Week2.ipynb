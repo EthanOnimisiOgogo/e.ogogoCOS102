{
 "cells": [
  {
   "cell_type": "code",
   "execution_count": 2,
   "id": "551625d0-835f-4ad4-807a-96e343485189",
   "metadata": {
    "vscode": {
     "languageId": "python"
    }
   },
   "outputs": [
    {
     "data": {
      "text/plain": [
       "'Ethan Onimisi Ogogo'"
      ]
     },
     "execution_count": 2,
     "metadata": {},
     "output_type": "execute_result"
    }
   ],
   "source": [
    "\"Ethan Onimisi Ogogo\""
   ]
  },
  {
   "cell_type": "code",
   "execution_count": 3,
   "id": "7f7e387f-1547-47f2-b10a-68d33a923cd4",
   "metadata": {},
   "outputs": [
    {
     "data": {
      "text/plain": [
       "3"
      ]
     },
     "execution_count": 3,
     "metadata": {},
     "output_type": "execute_result"
    }
   ],
   "source": [
    "age = 38\n",
    "num= 5\n",
    "age%num"
   ]
  },
  {
   "cell_type": "code",
   "execution_count": null,
   "id": "8f904935-d6d1-4791-afb1-f7783748b782",
   "metadata": {},
   "outputs": [],
   "source": []
  }
 ],
 "metadata": {
  "kernelspec": {
   "display_name": "Python 3 (ipykernel)",
   "language": "python",
   "name": "python3"
  },
  "language_info": {
   "codemirror_mode": {
    "name": "ipython",
    "version": 3
   },
   "file_extension": ".py",
   "mimetype": "text/x-python",
   "name": "python",
   "nbconvert_exporter": "python",
   "pygments_lexer": "ipython3",
   "version": "3.13.2"
  }
 },
 "nbformat": 4,
 "nbformat_minor": 5
}
