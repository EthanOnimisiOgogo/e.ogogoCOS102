{
 "cells": [
  {
   "cell_type": "code",
   "execution_count": null,
   "id": "2076488f-74ca-4f0e-b5b8-ec644abe3d48",
   "metadata": {},
   "outputs": [],
   "source": []
  }
 ],
 "metadata": {
  "kernelspec": {
   "display_name": "",
   "name": ""
  },
  "language_info": {
   "name": ""
  }
 },
 "nbformat": 4,
 "nbformat_minor": 5
}
