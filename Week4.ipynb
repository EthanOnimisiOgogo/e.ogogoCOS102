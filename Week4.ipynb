{
 "cells": [
  {
   "cell_type": "code",
   "execution_count": 26,
   "id": "0b4b5001-9e82-40c7-b8e6-ba161ccd0d4b",
   "metadata": {},
   "outputs": [
    {
     "name": "stdout",
     "output_type": "stream",
     "text": [
      "The area of this circle is  12.56\n"
     ]
    }
   ],
   "source": [
    "def calcularea(radius):\n",
    "    pi = 3.14\n",
    "    area = radius*pi\n",
    "    print(\"The area of this circle is \",area)\n",
    "\n",
    "calcularea(4)"
   ]
  },
  {
   "cell_type": "code",
   "execution_count": 28,
   "id": "b4199406",
   "metadata": {},
   "outputs": [
    {
     "name": "stdout",
     "output_type": "stream",
     "text": [
      "\n",
      "This is not a palindrome\n"
     ]
    }
   ],
   "source": [
    "def palindrome( palstring):\n",
    "    print(palstring[::-1])\n",
    "    if palstring[0:] == palstring[::-1]:\n",
    "        print(\"This is a palindrome\")\n",
    "    else:\n",
    "        print(\"This is not a palindrome\")\n",
    "    \n",
    "\n",
    "palindrome(\"GOGO\")"
   ]
  }
 ],
 "metadata": {
  "kernelspec": {
   "display_name": "Python 3 (ipykernel)",
   "language": "python",
   "name": "python3"
  },
  "language_info": {
   "codemirror_mode": {
    "name": "ipython",
    "version": 3
   },
   "file_extension": ".py",
   "mimetype": "text/x-python",
   "name": "python",
   "nbconvert_exporter": "python",
   "pygments_lexer": "ipython3",
   "version": "3.13.2"
  }
 },
 "nbformat": 4,
 "nbformat_minor": 5
}
